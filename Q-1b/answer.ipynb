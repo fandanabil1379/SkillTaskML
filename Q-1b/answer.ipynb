{
 "cells": [
  {
   "cell_type": "markdown",
   "metadata": {},
   "source": [
    "## Load Dataset"
   ]
  },
  {
   "cell_type": "code",
   "execution_count": 1,
   "metadata": {},
   "outputs": [
    {
     "data": {
      "text/html": [
       "<div>\n",
       "<style scoped>\n",
       "    .dataframe tbody tr th:only-of-type {\n",
       "        vertical-align: middle;\n",
       "    }\n",
       "\n",
       "    .dataframe tbody tr th {\n",
       "        vertical-align: top;\n",
       "    }\n",
       "\n",
       "    .dataframe thead th {\n",
       "        text-align: right;\n",
       "    }\n",
       "</style>\n",
       "<table border=\"1\" class=\"dataframe\">\n",
       "  <thead>\n",
       "    <tr style=\"text-align: right;\">\n",
       "      <th></th>\n",
       "      <th>id</th>\n",
       "      <th>sepal_length</th>\n",
       "      <th>sepal_width</th>\n",
       "      <th>petal_length</th>\n",
       "      <th>petal_width</th>\n",
       "    </tr>\n",
       "  </thead>\n",
       "  <tbody>\n",
       "    <tr>\n",
       "      <th>0</th>\n",
       "      <td>id000</td>\n",
       "      <td>5.1</td>\n",
       "      <td>3.5</td>\n",
       "      <td>1.4</td>\n",
       "      <td>0.2</td>\n",
       "    </tr>\n",
       "    <tr>\n",
       "      <th>1</th>\n",
       "      <td>id001</td>\n",
       "      <td>4.9</td>\n",
       "      <td>3.0</td>\n",
       "      <td>1.4</td>\n",
       "      <td>0.2</td>\n",
       "    </tr>\n",
       "    <tr>\n",
       "      <th>2</th>\n",
       "      <td>id002</td>\n",
       "      <td>4.7</td>\n",
       "      <td>3.2</td>\n",
       "      <td>1.3</td>\n",
       "      <td>0.2</td>\n",
       "    </tr>\n",
       "    <tr>\n",
       "      <th>3</th>\n",
       "      <td>id003</td>\n",
       "      <td>4.6</td>\n",
       "      <td>3.1</td>\n",
       "      <td>1.5</td>\n",
       "      <td>0.2</td>\n",
       "    </tr>\n",
       "    <tr>\n",
       "      <th>4</th>\n",
       "      <td>id004</td>\n",
       "      <td>5.0</td>\n",
       "      <td>3.6</td>\n",
       "      <td>1.4</td>\n",
       "      <td>0.2</td>\n",
       "    </tr>\n",
       "    <tr>\n",
       "      <th>...</th>\n",
       "      <td>...</td>\n",
       "      <td>...</td>\n",
       "      <td>...</td>\n",
       "      <td>...</td>\n",
       "      <td>...</td>\n",
       "    </tr>\n",
       "    <tr>\n",
       "      <th>145</th>\n",
       "      <td>id145</td>\n",
       "      <td>6.7</td>\n",
       "      <td>3.0</td>\n",
       "      <td>5.2</td>\n",
       "      <td>2.3</td>\n",
       "    </tr>\n",
       "    <tr>\n",
       "      <th>146</th>\n",
       "      <td>id146</td>\n",
       "      <td>6.3</td>\n",
       "      <td>2.5</td>\n",
       "      <td>5.0</td>\n",
       "      <td>1.9</td>\n",
       "    </tr>\n",
       "    <tr>\n",
       "      <th>147</th>\n",
       "      <td>id147</td>\n",
       "      <td>6.5</td>\n",
       "      <td>3.0</td>\n",
       "      <td>5.2</td>\n",
       "      <td>2.0</td>\n",
       "    </tr>\n",
       "    <tr>\n",
       "      <th>148</th>\n",
       "      <td>id148</td>\n",
       "      <td>6.2</td>\n",
       "      <td>3.4</td>\n",
       "      <td>5.4</td>\n",
       "      <td>2.3</td>\n",
       "    </tr>\n",
       "    <tr>\n",
       "      <th>149</th>\n",
       "      <td>id149</td>\n",
       "      <td>5.9</td>\n",
       "      <td>3.0</td>\n",
       "      <td>5.1</td>\n",
       "      <td>1.8</td>\n",
       "    </tr>\n",
       "  </tbody>\n",
       "</table>\n",
       "<p>150 rows × 5 columns</p>\n",
       "</div>"
      ],
      "text/plain": [
       "        id  sepal_length  sepal_width  petal_length  petal_width\n",
       "0    id000           5.1          3.5           1.4          0.2\n",
       "1    id001           4.9          3.0           1.4          0.2\n",
       "2    id002           4.7          3.2           1.3          0.2\n",
       "3    id003           4.6          3.1           1.5          0.2\n",
       "4    id004           5.0          3.6           1.4          0.2\n",
       "..     ...           ...          ...           ...          ...\n",
       "145  id145           6.7          3.0           5.2          2.3\n",
       "146  id146           6.3          2.5           5.0          1.9\n",
       "147  id147           6.5          3.0           5.2          2.0\n",
       "148  id148           6.2          3.4           5.4          2.3\n",
       "149  id149           5.9          3.0           5.1          1.8\n",
       "\n",
       "[150 rows x 5 columns]"
      ]
     },
     "execution_count": 1,
     "metadata": {},
     "output_type": "execute_result"
    }
   ],
   "source": [
    "import pandas as pd\n",
    "import warnings\n",
    "warnings.filterwarnings(\"ignore\")\n",
    "\n",
    "dataset = pd.read_csv(\"https://raw.githubusercontent.com/uiuc-cse/data-fa14/gh-pages/data/iris.csv\")\n",
    "dataset = dataset.drop(columns=['species'])\n",
    "\n",
    "for idx in range(dataset.shape[0]):\n",
    "    if idx < 10:\n",
    "        dataset.loc[idx,'id'] = f'id00{idx}'\n",
    "    elif idx < 100:\n",
    "        dataset.loc[idx,'id'] = f'id0{idx}'\n",
    "    else:\n",
    "        dataset.loc[idx,'id'] = f'id{idx}'\n",
    "\n",
    "dataset.insert(0, 'id', dataset.pop('id'))\n",
    "\n",
    "dataset"
   ]
  },
  {
   "cell_type": "markdown",
   "metadata": {},
   "source": [
    "## Create Databases for tracking process"
   ]
  },
  {
   "cell_type": "code",
   "execution_count": 2,
   "metadata": {},
   "outputs": [
    {
     "name": "stdout",
     "output_type": "stream",
     "text": [
      "irisDB database is created\n",
      "('information_schema',)\n",
      "('irisdb',)\n",
      "('mlflowdb',)\n",
      "('mysql',)\n",
      "('performance_schema',)\n",
      "('sakila',)\n",
      "('sys',)\n",
      "('world',)\n"
     ]
    }
   ],
   "source": [
    "import mysql.connector\n",
    "from mysql.connector import Error\n",
    "\n",
    "try:\n",
    "    conn = mysql.connector.connect(host='localhost', user='root', password='admin123')\n",
    "    if conn.is_connected():\n",
    "        cursor = conn.cursor()\n",
    "        cursor.execute('DROP DATABASE IF EXISTS irisDB')\n",
    "        cursor.execute(\"CREATE DATABASE irisDB\")\n",
    "        print(\"irisDB database is created\")\n",
    "except Error as e:\n",
    "    print(e)\n",
    "\n",
    "cursor.execute(\"SHOW DATABASES\")\n",
    "for database in cursor:\n",
    "  print(database)"
   ]
  },
  {
   "cell_type": "markdown",
   "metadata": {},
   "source": [
    "## Create table to store iris data & classification result "
   ]
  },
  {
   "cell_type": "code",
   "execution_count": 4,
   "metadata": {},
   "outputs": [
    {
     "name": "stdout",
     "output_type": "stream",
     "text": [
      "Classification result table is created\n",
      "Iris table is created\n",
      "List of table in database :\n",
      "('clf',)\n",
      "('iris',)\n"
     ]
    }
   ],
   "source": [
    "try:\n",
    "    conn = mysql.connector.connect(host='localhost', database='irisDB', user='root', password='admin123')\n",
    "    if conn.is_connected():\n",
    "        cursor = conn.cursor()\n",
    "        cursor.execute(\"select database()\")\n",
    "        record = cursor.fetchone()\n",
    "\n",
    "        cursor.execute('DROP TABLE IF EXISTS clf')\n",
    "        cursor.execute(\"CREATE TABLE clf ( \\\n",
    "          executed_at DATETIME NOT NULL, \\\n",
    "          id VARCHAR(255) NOT NULL, \\\n",
    "          class INT NOT NULL)\")\n",
    "\n",
    "        cursor.execute('DROP TABLE IF EXISTS iris;')\n",
    "        cursor.execute(\"CREATE TABLE iris ( \\\n",
    "          id VARCHAR(255) NOT NULL, \\\n",
    "          sepal_length FLOAT(2,1) NOT NULL, \\\n",
    "          sepal_width FLOAT(2,1) NOT NULL, \\\n",
    "          petal_length FLOAT(2,1) NOT NULL, \\\n",
    "          petal_width FLOAT(2,1) NOT NULL)\")\n",
    "\n",
    "        for i, row in dataset.iterrows():\n",
    "            cursor.execute(\"INSERT INTO irisDB.iris VALUES (%s,%s,%s,%s,%s)\", tuple(row))\n",
    "            conn.commit()\n",
    "        \n",
    "        print(\"Classification result table is created\")\n",
    "        print(\"Iris table is created\")\n",
    "\n",
    "except Error as e:\n",
    "    print(\"Error while connecting to MySQL\", e)\n",
    "\n",
    "print(\"List of table in database :\")\n",
    "cursor.execute(\"Show tables;\") \n",
    "for table in cursor.fetchall():\n",
    "    print(table)"
   ]
  },
  {
   "cell_type": "markdown",
   "metadata": {},
   "source": [
    "## Do classification process according to schedule"
   ]
  },
  {
   "cell_type": "code",
   "execution_count": 5,
   "metadata": {},
   "outputs": [
    {
     "name": "stdout",
     "output_type": "stream",
     "text": [
      "^C\n"
     ]
    }
   ],
   "source": [
    "! python schedule_task.py"
   ]
  },
  {
   "cell_type": "code",
   "execution_count": 6,
   "metadata": {},
   "outputs": [
    {
     "name": "stdout",
     "output_type": "stream",
     "text": [
      "          executed_at     id  class\n",
      "0 2022-09-15 13:57:13  id126      2\n",
      "1 2022-09-15 13:57:13  id014      0\n",
      "2 2022-09-15 13:57:13  id127      2\n",
      "3 2022-09-15 14:07:17  id149      2\n",
      "4 2022-09-15 14:07:17  id020      0\n",
      "5 2022-09-15 14:07:17  id103      2\n",
      "6 2022-09-15 14:17:21  id004      2\n",
      "7 2022-09-15 14:17:21  id033      2\n",
      "8 2022-09-15 14:17:21  id039      2\n"
     ]
    }
   ],
   "source": [
    "# Check the result (example: for scheduling every 10 minutes)\n",
    "mydb = mysql.connector.connect(host='localhost', database='irisDB', user='root', password='admin123')\n",
    "print(pd.read_sql('SELECT * FROM irisDB.clf', con=mydb))"
   ]
  },
  {
   "cell_type": "code",
   "execution_count": null,
   "metadata": {},
   "outputs": [],
   "source": []
  }
 ],
 "metadata": {
  "kernelspec": {
   "display_name": "Python 3.8.5 ('env': venv)",
   "language": "python",
   "name": "python3"
  },
  "language_info": {
   "codemirror_mode": {
    "name": "ipython",
    "version": 3
   },
   "file_extension": ".py",
   "mimetype": "text/x-python",
   "name": "python",
   "nbconvert_exporter": "python",
   "pygments_lexer": "ipython3",
   "version": "3.8.5"
  },
  "orig_nbformat": 4,
  "vscode": {
   "interpreter": {
    "hash": "7e320645d63be845c3eae4e7dfeaeeb7863ec87af883979793a5f567c789f8a1"
   }
  }
 },
 "nbformat": 4,
 "nbformat_minor": 2
}
