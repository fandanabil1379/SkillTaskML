{
 "cells": [
  {
   "cell_type": "markdown",
   "metadata": {},
   "source": [
    "## Testing "
   ]
  },
  {
   "cell_type": "code",
   "execution_count": 1,
   "metadata": {},
   "outputs": [
    {
     "name": "stdout",
     "output_type": "stream",
     "text": [
      "{'Request': [{'sepal_length': 6.0, 'sepal_width': 3.0, 'petal_length': 4.0, 'petal_width': 1.5}, {'sepal_length': 6.1, 'sepal_width': 3.2, 'petal_length': 4.3, 'petal_width': 1.1}, {'sepal_length': 5.7, 'sepal_width': 2.9, 'petal_length': 4.1, 'petal_width': 1.6}], 'Response': [2, 2, 2]}\n"
     ]
    }
   ],
   "source": [
    "import requests\n",
    "\n",
    "'''\n",
    "  Please run \"python app.py\" first\n",
    "'''\n",
    "\n",
    "url = \"http://127.0.0.1:8000/predict\"\n",
    "\n",
    "payload = {\n",
    "  \"data\": [\n",
    "    {\n",
    "      \"sepal_length\": 6.0,\n",
    "      \"sepal_width\": 3.0,\n",
    "      \"petal_length\": 4.0,\n",
    "      \"petal_width\": 1.5\n",
    "    },\n",
    "   {\n",
    "      \"sepal_length\": 6.1,\n",
    "      \"sepal_width\": 3.2,\n",
    "      \"petal_length\": 4.3,\n",
    "      \"petal_width\": 1.1\n",
    "    },\n",
    "    {\n",
    "      \"sepal_length\": 5.7,\n",
    "      \"sepal_width\": 2.9,\n",
    "      \"petal_length\": 4.1,\n",
    "      \"petal_width\": 1.6\n",
    "    }\n",
    "  ]\n",
    "}\n",
    "\n",
    "r = requests.post(url, json=payload)\n",
    "\n",
    "print(r.json())"
   ]
  }
 ],
 "metadata": {
  "kernelspec": {
   "display_name": "Python 3.8.5 ('env': venv)",
   "language": "python",
   "name": "python3"
  },
  "language_info": {
   "codemirror_mode": {
    "name": "ipython",
    "version": 3
   },
   "file_extension": ".py",
   "mimetype": "text/x-python",
   "name": "python",
   "nbconvert_exporter": "python",
   "pygments_lexer": "ipython3",
   "version": "3.8.5"
  },
  "orig_nbformat": 4,
  "vscode": {
   "interpreter": {
    "hash": "7e320645d63be845c3eae4e7dfeaeeb7863ec87af883979793a5f567c789f8a1"
   }
  }
 },
 "nbformat": 4,
 "nbformat_minor": 2
}
