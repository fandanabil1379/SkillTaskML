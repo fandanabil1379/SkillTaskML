{
  "cells": [
    {
      "cell_type": "markdown",
      "metadata": {},
      "source": [
        "## Load Dataset"
      ]
    },
    {
      "cell_type": "code",
      "execution_count": 1,
      "metadata": {
        "colab": {
          "base_uri": "https://localhost:8080/",
          "height": 80
        },
        "id": "of55AT7RLKtW",
        "outputId": "93316558-3c4a-4ba0-c4b1-01b4b8ddddf1"
      },
      "outputs": [
        {
          "data": {
            "text/html": [
              "<div>\n",
              "<style scoped>\n",
              "    .dataframe tbody tr th:only-of-type {\n",
              "        vertical-align: middle;\n",
              "    }\n",
              "\n",
              "    .dataframe tbody tr th {\n",
              "        vertical-align: top;\n",
              "    }\n",
              "\n",
              "    .dataframe thead th {\n",
              "        text-align: right;\n",
              "    }\n",
              "</style>\n",
              "<table border=\"1\" class=\"dataframe\">\n",
              "  <thead>\n",
              "    <tr style=\"text-align: right;\">\n",
              "      <th></th>\n",
              "      <th>sepal_length</th>\n",
              "      <th>sepal_width</th>\n",
              "      <th>petal_length</th>\n",
              "      <th>petal_width</th>\n",
              "      <th>species</th>\n",
              "    </tr>\n",
              "  </thead>\n",
              "  <tbody>\n",
              "    <tr>\n",
              "      <th>0</th>\n",
              "      <td>5.1</td>\n",
              "      <td>3.5</td>\n",
              "      <td>1.4</td>\n",
              "      <td>0.2</td>\n",
              "      <td>0</td>\n",
              "    </tr>\n",
              "    <tr>\n",
              "      <th>1</th>\n",
              "      <td>4.9</td>\n",
              "      <td>3.0</td>\n",
              "      <td>1.4</td>\n",
              "      <td>0.2</td>\n",
              "      <td>0</td>\n",
              "    </tr>\n",
              "    <tr>\n",
              "      <th>2</th>\n",
              "      <td>4.7</td>\n",
              "      <td>3.2</td>\n",
              "      <td>1.3</td>\n",
              "      <td>0.2</td>\n",
              "      <td>0</td>\n",
              "    </tr>\n",
              "    <tr>\n",
              "      <th>3</th>\n",
              "      <td>4.6</td>\n",
              "      <td>3.1</td>\n",
              "      <td>1.5</td>\n",
              "      <td>0.2</td>\n",
              "      <td>0</td>\n",
              "    </tr>\n",
              "    <tr>\n",
              "      <th>4</th>\n",
              "      <td>5.0</td>\n",
              "      <td>3.6</td>\n",
              "      <td>1.4</td>\n",
              "      <td>0.2</td>\n",
              "      <td>0</td>\n",
              "    </tr>\n",
              "    <tr>\n",
              "      <th>...</th>\n",
              "      <td>...</td>\n",
              "      <td>...</td>\n",
              "      <td>...</td>\n",
              "      <td>...</td>\n",
              "      <td>...</td>\n",
              "    </tr>\n",
              "    <tr>\n",
              "      <th>145</th>\n",
              "      <td>6.7</td>\n",
              "      <td>3.0</td>\n",
              "      <td>5.2</td>\n",
              "      <td>2.3</td>\n",
              "      <td>2</td>\n",
              "    </tr>\n",
              "    <tr>\n",
              "      <th>146</th>\n",
              "      <td>6.3</td>\n",
              "      <td>2.5</td>\n",
              "      <td>5.0</td>\n",
              "      <td>1.9</td>\n",
              "      <td>2</td>\n",
              "    </tr>\n",
              "    <tr>\n",
              "      <th>147</th>\n",
              "      <td>6.5</td>\n",
              "      <td>3.0</td>\n",
              "      <td>5.2</td>\n",
              "      <td>2.0</td>\n",
              "      <td>2</td>\n",
              "    </tr>\n",
              "    <tr>\n",
              "      <th>148</th>\n",
              "      <td>6.2</td>\n",
              "      <td>3.4</td>\n",
              "      <td>5.4</td>\n",
              "      <td>2.3</td>\n",
              "      <td>2</td>\n",
              "    </tr>\n",
              "    <tr>\n",
              "      <th>149</th>\n",
              "      <td>5.9</td>\n",
              "      <td>3.0</td>\n",
              "      <td>5.1</td>\n",
              "      <td>1.8</td>\n",
              "      <td>2</td>\n",
              "    </tr>\n",
              "  </tbody>\n",
              "</table>\n",
              "<p>150 rows × 5 columns</p>\n",
              "</div>"
            ],
            "text/plain": [
              "     sepal_length  sepal_width  petal_length  petal_width species\n",
              "0             5.1          3.5           1.4          0.2       0\n",
              "1             4.9          3.0           1.4          0.2       0\n",
              "2             4.7          3.2           1.3          0.2       0\n",
              "3             4.6          3.1           1.5          0.2       0\n",
              "4             5.0          3.6           1.4          0.2       0\n",
              "..            ...          ...           ...          ...     ...\n",
              "145           6.7          3.0           5.2          2.3       2\n",
              "146           6.3          2.5           5.0          1.9       2\n",
              "147           6.5          3.0           5.2          2.0       2\n",
              "148           6.2          3.4           5.4          2.3       2\n",
              "149           5.9          3.0           5.1          1.8       2\n",
              "\n",
              "[150 rows x 5 columns]"
            ]
          },
          "execution_count": 1,
          "metadata": {},
          "output_type": "execute_result"
        }
      ],
      "source": [
        "# Here we are importing all the libraries we will need to access functions\n",
        "import pandas as pd\n",
        "import warnings\n",
        "warnings.filterwarnings(\"ignore\")\n",
        "\n",
        "# Let's load this dataset from uiuc-cse\n",
        "dataset = pd.read_csv(\"https://raw.githubusercontent.com/uiuc-cse/data-fa14/gh-pages/data/iris.csv\")\n",
        "\n",
        "# Importing and Cleaning Up the Dataset\n",
        "dataset.loc[dataset[\"species\"]==\"setosa\",\"species\"]     = 0\n",
        "dataset.loc[dataset[\"species\"]==\"versicolor\",\"species\"] = 1\n",
        "dataset.loc[dataset[\"species\"]==\"virginica\",\"species\"]  = 2\n",
        "\n",
        "dataset"
      ]
    },
    {
      "cell_type": "markdown",
      "metadata": {},
      "source": [
        "## Create database for tracking mlflow models"
      ]
    },
    {
      "cell_type": "code",
      "execution_count": 2,
      "metadata": {},
      "outputs": [
        {
          "name": "stdout",
          "output_type": "stream",
          "text": [
            "mlflowDB database is created\n"
          ]
        }
      ],
      "source": [
        "import mysql.connector\n",
        "from mysql.connector import Error\n",
        "\n",
        "try:\n",
        "    mydb = mysql.connector.connect(host='localhost', user='root', password='admin123')\n",
        "    if mydb.is_connected():\n",
        "        cursor = mydb.cursor()\n",
        "        cursor.execute('DROP DATABASE IF EXISTS mlflowDB')\n",
        "        cursor.execute(\"CREATE DATABASE mlflowDB\")\n",
        "        print(\"mlflowDB database is created\")\n",
        "except Error as e:\n",
        "    print(e)"
      ]
    },
    {
      "cell_type": "markdown",
      "metadata": {},
      "source": [
        "## Model training & tracking process "
      ]
    },
    {
      "cell_type": "code",
      "execution_count": 3,
      "metadata": {},
      "outputs": [
        {
          "name": "stderr",
          "output_type": "stream",
          "text": [
            "2022/09/15 10:06:04 INFO mlflow.tracking.fluent: Experiment with name 'Question 1.a' does not exist. Creating a new experiment.\n"
          ]
        },
        {
          "name": "stdout",
          "output_type": "stream",
          "text": [
            "INFO:tensorflow:Assets written to: C:\\Users\\LENOVO\\AppData\\Local\\Temp\\tmpmw1swqrd\\model\\data\\model\\assets\n",
            "1/1 [==============================] - 0s 126ms/step\n",
            "INFO:tensorflow:Assets written to: C:\\Users\\LENOVO\\AppData\\Local\\Temp\\tmp06zgfux5\\model\\data\\model\\assets\n",
            "1/1 [==============================] - 0s 80ms/step\n",
            "INFO:tensorflow:Assets written to: C:\\Users\\LENOVO\\AppData\\Local\\Temp\\tmpth62bcp5\\model\\data\\model\\assets\n",
            "1/1 [==============================] - 0s 116ms/step\n",
            "INFO:tensorflow:Assets written to: C:\\Users\\LENOVO\\AppData\\Local\\Temp\\tmpq_0bia2h\\model\\data\\model\\assets\n",
            "1/1 [==============================] - 0s 81ms/step\n",
            "INFO:tensorflow:Assets written to: C:\\Users\\LENOVO\\AppData\\Local\\Temp\\tmpt8pgvw_l\\model\\data\\model\\assets\n",
            "WARNING:tensorflow:5 out of the last 5 calls to <function Model.make_predict_function.<locals>.predict_function at 0x000001CF4B1F9EE0> triggered tf.function retracing. Tracing is expensive and the excessive number of tracings could be due to (1) creating @tf.function repeatedly in a loop, (2) passing tensors with different shapes, (3) passing Python objects instead of tensors. For (1), please define your @tf.function outside of the loop. For (2), @tf.function has reduce_retracing=True option that can avoid unnecessary retracing. For (3), please refer to https://www.tensorflow.org/guide/function#controlling_retracing and https://www.tensorflow.org/api_docs/python/tf/function for  more details.\n",
            "1/1 [==============================] - 0s 75ms/step\n",
            "\n",
            "Training has been completed, Log File Location: file:///./Training/SkillTaskML/mlruns/1\n",
            "\n",
            "The best model id: a4bc07f72bb349cc93cfda5179ffc193\n"
          ]
        },
        {
          "data": {
            "text/plain": [
              "<Figure size 640x480 with 0 Axes>"
            ]
          },
          "metadata": {},
          "output_type": "display_data"
        }
      ],
      "source": [
        "import mlflow\n",
        "import train\n",
        "\n",
        "# Initial training variable settings\n",
        "model   = train.trainANN(\n",
        "        data=dataset,\n",
        "        experiment_name=\"Question 1.a\", \n",
        "        tags={\n",
        "                \"engineering\": \"Skill test ML Engineer e-fishery\",\n",
        "                \"release.candidate\": \"RC1\",\n",
        "                \"release.version\": \"1.0.0\"\n",
        "        }\n",
        ")\n",
        "# Run the training process\n",
        "model.run(\n",
        "        n_iter=5,\n",
        "        run_name=\"run@1\",\n",
        "        fitted_param={\n",
        "                \"batch_size\":20,\n",
        "                \"epochs\":100,\n",
        "                \"verbose\":0}\n",
        ")\n",
        "# Get runid for best model based on MCC\n",
        "bestModel = model.getBestModel(metrics='MCC')"
      ]
    },
    {
      "cell_type": "markdown",
      "metadata": {},
      "source": [
        "# Registering a model"
      ]
    },
    {
      "cell_type": "code",
      "execution_count": 4,
      "metadata": {},
      "outputs": [
        {
          "name": "stderr",
          "output_type": "stream",
          "text": [
            "Successfully registered model 'keras-ann-reg'.\n",
            "2022/09/15 10:07:41 INFO mlflow.tracking._model_registry.client: Waiting up to 300 seconds for model version to finish creation.                     Model name: keras-ann-reg, version 1\n",
            "Created version '1' of model 'keras-ann-reg'.\n"
          ]
        },
        {
          "data": {
            "text/plain": [
              "<ModelVersion: creation_timestamp=1663211261178, current_stage='None', description='', last_updated_timestamp=1663211261178, name='keras-ann-reg', run_id='a4bc07f72bb349cc93cfda5179ffc193', run_link='', source='file:///./Training/SkillTaskML/mlruns/1/a4bc07f72bb349cc93cfda5179ffc193/artifacts/keras-ann-model', status='READY', status_message='', tags={}, user_id='', version='1'>"
            ]
          },
          "execution_count": 4,
          "metadata": {},
          "output_type": "execute_result"
        }
      ],
      "source": [
        "# Adding an MLflow Model to the Model Registry\n",
        "mlflow.register_model(model_uri=f\"runs:/{bestModel}/keras-ann-model\", name=\"keras-ann-reg\")"
      ]
    },
    {
      "cell_type": "code",
      "execution_count": 5,
      "metadata": {},
      "outputs": [
        {
          "data": {
            "text/plain": [
              "<ModelVersion: creation_timestamp=1663211261178, current_stage='Production', description='', last_updated_timestamp=1663211263833, name='keras-ann-reg', run_id='a4bc07f72bb349cc93cfda5179ffc193', run_link='', source='file:///./Training/SkillTaskML/mlruns/1/a4bc07f72bb349cc93cfda5179ffc193/artifacts/keras-ann-model', status='READY', status_message='', tags={}, user_id='', version='1'>"
            ]
          },
          "execution_count": 5,
          "metadata": {},
          "output_type": "execute_result"
        }
      ],
      "source": [
        "from mlflow.tracking import MlflowClient\n",
        "\n",
        "# Set models version 1 from None into Production\n",
        "client = MlflowClient()\n",
        "client.transition_model_version_stage(name=\"keras-ann-reg\", version=1,stage=\"Production\")"
      ]
    }
  ],
  "metadata": {
    "colab": {
      "collapsed_sections": [],
      "provenance": []
    },
    "kernelspec": {
      "display_name": "Python 3.8.5 ('env': venv)",
      "language": "python",
      "name": "python3"
    },
    "language_info": {
      "codemirror_mode": {
        "name": "ipython",
        "version": 3
      },
      "file_extension": ".py",
      "mimetype": "text/x-python",
      "name": "python",
      "nbconvert_exporter": "python",
      "pygments_lexer": "ipython3",
      "version": "3.8.5"
    },
    "vscode": {
      "interpreter": {
        "hash": "7e320645d63be845c3eae4e7dfeaeeb7863ec87af883979793a5f567c789f8a1"
      }
    }
  },
  "nbformat": 4,
  "nbformat_minor": 0
}
